{
 "cells": [
  {
   "cell_type": "code",
   "execution_count": 2,
   "id": "ec475fb3",
   "metadata": {},
   "outputs": [
    {
     "name": "stdout",
     "output_type": "stream",
     "text": [
      "--2025-09-10 23:08:03--  https://raw.githubusercontent.com/karpathy/char-rnn/master/data/tinyshakespeare/input.txt\n",
      "Resolving raw.githubusercontent.com (raw.githubusercontent.com)... 185.199.110.133, 185.199.111.133, 185.199.109.133, ...\n",
      "Connecting to raw.githubusercontent.com (raw.githubusercontent.com)|185.199.110.133|:443... connected.\n",
      "HTTP request sent, awaiting response... 200 OK\n",
      "Length: 1115394 (1.1M) [text/plain]\n",
      "Saving to: ‘input.txt.1’\n",
      "\n",
      "input.txt.1         100%[===================>]   1.06M  66.7KB/s    in 9.7s    \n",
      "\n",
      "2025-09-10 23:08:16 (112 KB/s) - ‘input.txt.1’ saved [1115394/1115394]\n",
      "\n"
     ]
    }
   ],
   "source": [
    "# We always start with a dataset to train on. Let's download the tiny shakespeare dataset\n",
    "!wget https://raw.githubusercontent.com/karpathy/char-rnn/master/data/tinyshakespeare/input.txt"
   ]
  },
  {
   "cell_type": "code",
   "execution_count": 3,
   "id": "b09dcc21",
   "metadata": {},
   "outputs": [],
   "source": [
    "with open('input.txt', 'r') as f:\n",
    "    text = f.read()"
   ]
  },
  {
   "cell_type": "code",
   "execution_count": 4,
   "id": "3907d733",
   "metadata": {},
   "outputs": [
    {
     "name": "stdout",
     "output_type": "stream",
     "text": [
      "length of dataset in characters: 1115394\n"
     ]
    }
   ],
   "source": [
    "print(f\"length of dataset in characters: {len(text)}\")"
   ]
  },
  {
   "cell_type": "code",
   "execution_count": 5,
   "id": "5944c513",
   "metadata": {},
   "outputs": [
    {
     "name": "stdout",
     "output_type": "stream",
     "text": [
      "First Citizen:\n",
      "Before we proceed any further, hear me speak.\n",
      "\n",
      "All:\n",
      "Speak, speak.\n",
      "\n",
      "First Citizen:\n",
      "You are all resolved rather to die than to famish?\n",
      "\n",
      "All:\n",
      "Resolved. resolved.\n",
      "\n",
      "First Citizen:\n",
      "First, you know Caius Marcius is chief enemy to the people.\n",
      "\n",
      "All:\n",
      "We know't, we know't.\n",
      "\n",
      "First Citizen:\n",
      "Let us kill him, and we'll have corn at our own price.\n",
      "Is't a verdict?\n",
      "\n",
      "All:\n",
      "No more talking on't; let it be done: away, away!\n",
      "\n",
      "Second Citizen:\n",
      "One word, good citizens.\n",
      "\n",
      "First Citizen:\n",
      "We are accounted poor citizens, the patricians good.\n",
      "What authority surfeits on would relieve us: if they\n",
      "would yield us but the superfluity, while it were\n",
      "wholesome, we might guess they relieved us humanely;\n",
      "but they think we are too dear: the leanness that\n",
      "afflicts us, the object of our misery, is as an\n",
      "inventory to particularise their abundance; our\n",
      "sufferance is a gain to them Let us revenge this with\n",
      "our pikes, ere we become rakes: for the gods know I\n",
      "speak this in hunger for bread, not in thirst for revenge.\n",
      "\n",
      "\n"
     ]
    }
   ],
   "source": [
    "print(text[:1000])  # first 1000 characters\")"
   ]
  },
  {
   "cell_type": "code",
   "execution_count": 6,
   "id": "c69ac051",
   "metadata": {},
   "outputs": [
    {
     "name": "stdout",
     "output_type": "stream",
     "text": [
      "all the unique characters: zyxwvutsrqponmlkjihgfedcbaZYXWVUTSRQPONMLKJIHGFEDCBA?;:3.-,'&$! \n",
      "\n",
      "65\n"
     ]
    }
   ],
   "source": [
    "chars = sorted(list(set(text)))\n",
    "vocab_size = len(chars)\n",
    "print(\"all the unique characters:\", ''.join(chars[::-1]))\n",
    "print(vocab_size)"
   ]
  },
  {
   "cell_type": "code",
   "execution_count": 7,
   "id": "61fd7f37",
   "metadata": {},
   "outputs": [
    {
     "name": "stdout",
     "output_type": "stream",
     "text": [
      "[46, 47, 47, 1, 58, 46, 43, 56, 43, 6, 1, 25, 39, 46, 39, 58, 39]\n",
      "hii there, Mahata\n"
     ]
    }
   ],
   "source": [
    "# Strategy to tokenize the text at character level\n",
    "# Create a mapping from characters to integers and vice versa\n",
    "stoi = { ch:i for i,ch in enumerate(chars)}\n",
    "itos = {i:ch for i,ch in enumerate(chars)}\n",
    "encode = lambda s: [stoi[c] for c in s]  # string to integer\n",
    "decode = lambda l: ''.join([itos[i] for i in l])  # integer to string\n",
    "\n",
    "print(encode(\"hii there, Mahata\"))\n",
    "print(decode(encode(\"hii there, Mahata\")))"
   ]
  },
  {
   "cell_type": "code",
   "execution_count": 8,
   "id": "2905ae58",
   "metadata": {},
   "outputs": [
    {
     "name": "stdout",
     "output_type": "stream",
     "text": [
      "torch.Size([1115394]) torch.int64\n",
      "tensor([18, 47, 56, 57, 58,  1, 15, 47, 58, 47, 64, 43, 52, 10,  0, 14, 43, 44,\n",
      "        53, 56, 43,  1, 61, 43,  1, 54, 56, 53, 41, 43, 43, 42,  1, 39, 52, 63,\n",
      "         1, 44, 59, 56, 58, 46, 43, 56,  6,  1, 46, 43, 39, 56,  1, 51, 43,  1,\n",
      "        57, 54, 43, 39, 49,  8,  0,  0, 13, 50, 50, 10,  0, 31, 54, 43, 39, 49,\n",
      "         6,  1, 57, 54, 43, 39, 49,  8,  0,  0, 18, 47, 56, 57, 58,  1, 15, 47,\n",
      "        58, 47, 64, 43, 52, 10,  0, 37, 53, 59])\n"
     ]
    }
   ],
   "source": [
    "# Encoding the entire text dataset and store it into a torch tensor\n",
    "import torch\n",
    "data = torch.tensor(encode(text), dtype=torch.long)\n",
    "print(data.shape, data.dtype)\n",
    "print(data[:100])  # first 1000 characters encoded as integers"
   ]
  },
  {
   "cell_type": "code",
   "execution_count": 9,
   "id": "4da73f72",
   "metadata": {},
   "outputs": [],
   "source": [
    "# Train-test split\n",
    "n = int(0.9*len(data))  # first 90% will be train, rest val\n",
    "train_data = data[:n]\n",
    "val_data = data[n:]\n"
   ]
  },
  {
   "cell_type": "code",
   "execution_count": 10,
   "id": "dfd97e38",
   "metadata": {},
   "outputs": [
    {
     "data": {
      "text/plain": [
       "tensor([18, 47, 56, 57, 58,  1, 15, 47, 58])"
      ]
     },
     "execution_count": 10,
     "metadata": {},
     "output_type": "execute_result"
    }
   ],
   "source": [
    "# We only work with chunks of the datasets of a fixed size\n",
    "block_size = 8  # context length: how many characters do we take to predict the\n",
    "train_data[:block_size+1]  # we will use the first block_size characters to predict the last character"
   ]
  },
  {
   "cell_type": "code",
   "execution_count": 11,
   "id": "fe4faa96",
   "metadata": {},
   "outputs": [
    {
     "name": "stdout",
     "output_type": "stream",
     "text": [
      "when input is [18] the target: 47\n",
      "when input is [18, 47] the target: 56\n",
      "when input is [18, 47, 56] the target: 57\n",
      "when input is [18, 47, 56, 57] the target: 58\n",
      "when input is [18, 47, 56, 57, 58] the target: 1\n",
      "when input is [18, 47, 56, 57, 58, 1] the target: 15\n",
      "when input is [18, 47, 56, 57, 58, 1, 15] the target: 47\n",
      "when input is [18, 47, 56, 57, 58, 1, 15, 47] the target: 58\n"
     ]
    }
   ],
   "source": [
    "x = train_data[:block_size]  # first block_size characters\n",
    "y = train_data[1:block_size+1]  # next block_size characters\n",
    "for t in range(block_size):\n",
    "    context = x[:t+1]\n",
    "    target = y[t]\n",
    "    print(f\"when input is {context.tolist()} the target: {target}\")"
   ]
  },
  {
   "cell_type": "code",
   "execution_count": 14,
   "id": "d6de539d",
   "metadata": {},
   "outputs": [
    {
     "name": "stdout",
     "output_type": "stream",
     "text": [
      "inputs: torch.Size([4, 8])  tensor([[10,  0, 32, 46, 53, 59,  1, 57],\n",
      "        [56,  8,  0, 21, 44,  1, 35, 39],\n",
      "        [ 0, 17, 42, 61, 39, 56, 42,  1],\n",
      "        [42, 45, 47, 52, 45, 57,  1, 39]])\n",
      "targets: torch.Size([4, 8])  tensor([[ 0, 32, 46, 53, 59,  1, 57, 43],\n",
      "        [ 8,  0, 21, 44,  1, 35, 39, 56],\n",
      "        [17, 42, 61, 39, 56, 42,  1, 39],\n",
      "        [45, 47, 52, 45, 57,  1, 39, 52]])\n",
      "------------------------------\n",
      "when input is [10] the target: 0\n",
      "when input is [10, 0] the target: 32\n",
      "when input is [10, 0, 32] the target: 46\n",
      "when input is [10, 0, 32, 46] the target: 53\n",
      "when input is [10, 0, 32, 46, 53] the target: 59\n",
      "when input is [10, 0, 32, 46, 53, 59] the target: 1\n",
      "when input is [10, 0, 32, 46, 53, 59, 1] the target: 57\n",
      "when input is [10, 0, 32, 46, 53, 59, 1, 57] the target: 43\n",
      "when input is [56] the target: 8\n",
      "when input is [56, 8] the target: 0\n",
      "when input is [56, 8, 0] the target: 21\n",
      "when input is [56, 8, 0, 21] the target: 44\n",
      "when input is [56, 8, 0, 21, 44] the target: 1\n",
      "when input is [56, 8, 0, 21, 44, 1] the target: 35\n",
      "when input is [56, 8, 0, 21, 44, 1, 35] the target: 39\n",
      "when input is [56, 8, 0, 21, 44, 1, 35, 39] the target: 56\n",
      "when input is [0] the target: 17\n",
      "when input is [0, 17] the target: 42\n",
      "when input is [0, 17, 42] the target: 61\n",
      "when input is [0, 17, 42, 61] the target: 39\n",
      "when input is [0, 17, 42, 61, 39] the target: 56\n",
      "when input is [0, 17, 42, 61, 39, 56] the target: 42\n",
      "when input is [0, 17, 42, 61, 39, 56, 42] the target: 1\n",
      "when input is [0, 17, 42, 61, 39, 56, 42, 1] the target: 39\n",
      "when input is [42] the target: 45\n",
      "when input is [42, 45] the target: 47\n",
      "when input is [42, 45, 47] the target: 52\n",
      "when input is [42, 45, 47, 52] the target: 45\n",
      "when input is [42, 45, 47, 52, 45] the target: 57\n",
      "when input is [42, 45, 47, 52, 45, 57] the target: 1\n",
      "when input is [42, 45, 47, 52, 45, 57, 1] the target: 39\n",
      "when input is [42, 45, 47, 52, 45, 57, 1, 39] the target: 52\n"
     ]
    }
   ],
   "source": [
    "torch.manual_seed(1338)\n",
    "batch_size = 4  # how many independent sequences will we process in parallel?\n",
    "block_size = 8  # what is the maximum context length for predictions?   \n",
    "\n",
    "def get_batch(split):\n",
    "    # generate a small batch data of inputs x and targets y\n",
    "    data = train_data if split == 'train' else val_data\n",
    "    ix = torch.randint(len(data) - block_size, (batch_size,))\n",
    "    x = torch.stack([data[i:i+block_size] for i in ix])\n",
    "    y = torch.stack([data[i+1:i+block_size+1] for i in ix])\n",
    "    return x,y\n",
    "\n",
    "xb, yb = get_batch('train')\n",
    "print(f\"inputs: {xb.shape} \", xb)\n",
    "print(f\"targets: {yb.shape} \", yb)\n",
    "\n",
    "\n",
    "print('------------------------------')\n",
    "\n",
    "for b in range(batch_size):\n",
    "    for t in range(block_size):\n",
    "        context = xb[b,:t+1]\n",
    "        target = yb[b,t]\n",
    "        print(f\"when input is {context.tolist()} the target: {target}\")"
   ]
  },
  {
   "cell_type": "code",
   "execution_count": 15,
   "id": "9c63abc8",
   "metadata": {},
   "outputs": [
    {
     "name": "stdout",
     "output_type": "stream",
     "text": [
      "torch.Size([32, 65])\n",
      "tensor(4.4897, grad_fn=<NllLossBackward0>)\n"
     ]
    }
   ],
   "source": [
    "import torch\n",
    "import torch.nn as nn\n",
    "from torch.nn import functional as F\n",
    "torch.manual_seed(1330)\n",
    "\n",
    "class BigramLanguageModel(nn.Module):\n",
    "\n",
    "    def __init__(self, vocab_size):\n",
    "        super().__init__()\n",
    "        # each token directly reads off the logits for the next token from a lookup table\n",
    "        self.token_embedding_table = nn.Embedding(vocab_size, vocab_size)\n",
    "\n",
    "    def forward(self, idx, targets):\n",
    "        # idx and targets are both (B,T) tensor of integers\n",
    "        logits = self.token_embedding_table(idx) # (B,T,C)\n",
    "\n",
    "        B,T,C = logits.shape\n",
    "        logits = logits.view(B*T, C)\n",
    "        targets = targets.view(B*T)\n",
    "        loss = F.cross_entropy(logits, targets)\n",
    "\n",
    "        return logits, loss\n",
    "    \n",
    "m = BigramLanguageModel(vocab_size)\n",
    "logits, loss = m(xb, yb)\n",
    "print(logits.shape)  # (B,T,C)  batch, time, channel (v\n",
    "print(loss)\n",
    "    \n"
   ]
  }
 ],
 "metadata": {
  "kernelspec": {
   "display_name": "torch-env",
   "language": "python",
   "name": "python3"
  },
  "language_info": {
   "codemirror_mode": {
    "name": "ipython",
    "version": 3
   },
   "file_extension": ".py",
   "mimetype": "text/x-python",
   "name": "python",
   "nbconvert_exporter": "python",
   "pygments_lexer": "ipython3",
   "version": "3.10.18"
  }
 },
 "nbformat": 4,
 "nbformat_minor": 5
}
